{
 "cells": [
  {
   "cell_type": "code",
   "execution_count": 260,
   "id": "cc9f3d17",
   "metadata": {},
   "outputs": [
    {
     "name": "stderr",
     "output_type": "stream",
     "text": [
      "[nltk_data] Downloading package punkt to\n",
      "[nltk_data]     C:\\Users\\kl1356\\AppData\\Roaming\\nltk_data...\n",
      "[nltk_data]   Package punkt is already up-to-date!\n",
      "[nltk_data] Downloading package stopwords to\n",
      "[nltk_data]     C:\\Users\\kl1356\\AppData\\Roaming\\nltk_data...\n",
      "[nltk_data]   Package stopwords is already up-to-date!\n"
     ]
    }
   ],
   "source": [
    "import pandas as pd\n",
    "from sklearn.feature_extraction.text import TfidfVectorizer\n",
    "from sklearn.metrics.pairwise import linear_kernel, cosine_similarity \n",
    "from sklearn.model_selection import train_test_split\n",
    "from sklearn.pipeline import Pipeline\n",
    "from sklearn.linear_model import LogisticRegression\n",
    "from sklearn.metrics import plot_precision_recall_curve\n",
    "import nltk\n",
    "import string\n",
    "from nltk.corpus import stopwords\n",
    "from nltk.tokenize import word_tokenize\n",
    "from nltk.stem import SnowballStemmer\n",
    "nltk.download('punkt')\n",
    "nltk.download('stopwords')\n",
    "import numpy as np\n",
    "from sklearn.model_selection import GridSearchCV"
   ]
  },
  {
   "cell_type": "code",
   "execution_count": 261,
   "id": "16cf8c25",
   "metadata": {},
   "outputs": [],
   "source": [
    "feature_texts = [\n",
    "       'CHASIMA SHICHRUR OVED CHASIMA_SHICHRUR_LEOVED CHASIMA CHASIMA CHASIMA CHASIMA_SHICHRUR_LEOVED TNUOT_TABLES_VW TNUOT_TABLES_VW OHO_CHASIMA_SHICHRUR_LEOVED OHO_CHASIMA_SHICHRUR_LEOVED',\n",
    "       'finished HasimotLeOved MLM.OHO.ServiceLayer.Core.Controllers.HasimotLeOvedController.GetMatsavChasimaOved   started SearchOved MLM.OHO.ServiceLayer.Core.Controllers.SearchOvedController.SearchOvedOneToOne   started OvedHearaLeRechiv MLM.OHO.ServiceLayer.Core.Controllers.OvedHearaLeRechivController.GetHearotLeshonit   TNUOT_TABLES_VW ',\n",
    "       'TNUOT_TABLES_VW started    HasimotLeOved MLM.OHO.ServiceLayer.Core.Controllers.HasimotLeOvedController.GetTguvatHasimaLeRechivimLeOved    TNUOT_TABLES_VW',\n",
    "    ]\n",
    "df = pd.DataFrame({'features': feature_texts})"
   ]
  },
  {
   "cell_type": "code",
   "execution_count": 263,
   "id": "88c89647",
   "metadata": {},
   "outputs": [],
   "source": [
    "def tokenize_sentence(sentense: str, remove_stop_words: bool = True):\n",
    "    tokens = word_tokenize(sentense, language='english')\n",
    "    tokens = [i for i in tokens if i not in string.punctuation] # remove punctuation\n",
    "    if remove_stop_words: # remove stop words\n",
    "        russian_stop_words = stopwords.words('english')\n",
    "        tokens = [i for i in tokens if i not in russian_stop_words]\n",
    "    snowball = SnowballStemmer(language='english')\n",
    "    tokens = [snowball.stem(i) for i in tokens ] # stemmed\n",
    "    return tokens"
   ]
  },
  {
   "cell_type": "code",
   "execution_count": 264,
   "id": "4dd89837",
   "metadata": {},
   "outputs": [],
   "source": [
    "tfidf = TfidfVectorizer(tokenizer=lambda x: tokenize_sentence(x, remove_stop_words = True))\n",
    "mx_tf = tfidf.fit_transform(feature_texts)"
   ]
  },
  {
   "cell_type": "code",
   "execution_count": 265,
   "id": "7f9a3e97",
   "metadata": {},
   "outputs": [
    {
     "data": {
      "text/html": [
       "<div>\n",
       "<style scoped>\n",
       "    .dataframe tbody tr th:only-of-type {\n",
       "        vertical-align: middle;\n",
       "    }\n",
       "\n",
       "    .dataframe tbody tr th {\n",
       "        vertical-align: top;\n",
       "    }\n",
       "\n",
       "    .dataframe thead th {\n",
       "        text-align: right;\n",
       "    }\n",
       "</style>\n",
       "<table border=\"1\" class=\"dataframe\">\n",
       "  <thead>\n",
       "    <tr style=\"text-align: right;\">\n",
       "      <th></th>\n",
       "      <th>0</th>\n",
       "      <th>1</th>\n",
       "      <th>2</th>\n",
       "      <th>3</th>\n",
       "      <th>4</th>\n",
       "      <th>5</th>\n",
       "      <th>6</th>\n",
       "      <th>7</th>\n",
       "      <th>8</th>\n",
       "      <th>9</th>\n",
       "      <th>10</th>\n",
       "      <th>11</th>\n",
       "      <th>12</th>\n",
       "      <th>13</th>\n",
       "      <th>14</th>\n",
       "    </tr>\n",
       "  </thead>\n",
       "  <tbody>\n",
       "    <tr>\n",
       "      <th>0</th>\n",
       "      <td>0.764226</td>\n",
       "      <td>0.382113</td>\n",
       "      <td>0.000000</td>\n",
       "      <td>0.000000</td>\n",
       "      <td>0.000000</td>\n",
       "      <td>0.000000</td>\n",
       "      <td>0.000000</td>\n",
       "      <td>0.000000</td>\n",
       "      <td>0.382113</td>\n",
       "      <td>0.191057</td>\n",
       "      <td>0.000000</td>\n",
       "      <td>0.000000</td>\n",
       "      <td>0.191057</td>\n",
       "      <td>0.000000</td>\n",
       "      <td>0.225682</td>\n",
       "    </tr>\n",
       "    <tr>\n",
       "      <th>1</th>\n",
       "      <td>0.000000</td>\n",
       "      <td>0.000000</td>\n",
       "      <td>0.328961</td>\n",
       "      <td>0.250183</td>\n",
       "      <td>0.328961</td>\n",
       "      <td>0.000000</td>\n",
       "      <td>0.328961</td>\n",
       "      <td>0.328961</td>\n",
       "      <td>0.000000</td>\n",
       "      <td>0.000000</td>\n",
       "      <td>0.328961</td>\n",
       "      <td>0.328961</td>\n",
       "      <td>0.000000</td>\n",
       "      <td>0.500367</td>\n",
       "      <td>0.194290</td>\n",
       "    </tr>\n",
       "    <tr>\n",
       "      <th>2</th>\n",
       "      <td>0.000000</td>\n",
       "      <td>0.000000</td>\n",
       "      <td>0.000000</td>\n",
       "      <td>0.403525</td>\n",
       "      <td>0.000000</td>\n",
       "      <td>0.530587</td>\n",
       "      <td>0.000000</td>\n",
       "      <td>0.000000</td>\n",
       "      <td>0.000000</td>\n",
       "      <td>0.000000</td>\n",
       "      <td>0.000000</td>\n",
       "      <td>0.000000</td>\n",
       "      <td>0.000000</td>\n",
       "      <td>0.403525</td>\n",
       "      <td>0.626747</td>\n",
       "    </tr>\n",
       "  </tbody>\n",
       "</table>\n",
       "</div>"
      ],
      "text/plain": [
       "         0         1         2         3         4         5         6   \\\n",
       "0  0.764226  0.382113  0.000000  0.000000  0.000000  0.000000  0.000000   \n",
       "1  0.000000  0.000000  0.328961  0.250183  0.328961  0.000000  0.328961   \n",
       "2  0.000000  0.000000  0.000000  0.403525  0.000000  0.530587  0.000000   \n",
       "\n",
       "         7         8         9         10        11        12        13  \\\n",
       "0  0.000000  0.382113  0.191057  0.000000  0.000000  0.191057  0.000000   \n",
       "1  0.328961  0.000000  0.000000  0.328961  0.328961  0.000000  0.500367   \n",
       "2  0.000000  0.000000  0.000000  0.000000  0.000000  0.000000  0.403525   \n",
       "\n",
       "         14  \n",
       "0  0.225682  \n",
       "1  0.194290  \n",
       "2  0.626747  "
      ]
     },
     "execution_count": 265,
     "metadata": {},
     "output_type": "execute_result"
    }
   ],
   "source": [
    "sdf = pd.DataFrame.sparse.from_spmatrix(mx_tf)\n",
    "sdf"
   ]
  },
  {
   "cell_type": "code",
   "execution_count": 266,
   "id": "541f90cf",
   "metadata": {},
   "outputs": [
    {
     "name": "stdout",
     "output_type": "stream",
     "text": [
      "[1 0 0]\n",
      "KMeans(n_clusters=2)\n"
     ]
    }
   ],
   "source": [
    "num_clusters = 2\n",
    "from sklearn.cluster import KMeans\n",
    "km = KMeans(n_clusters=num_clusters)\n",
    "#km.fit(mx_tf)\n",
    "idx=km.fit(mx_tf)\n",
    "label  = km.predict(mx_tf)\n",
    "print(label)\n",
    "print(idx)\n",
    "clusterkm=km.labels_.tolist()\n",
    "#clusterkm\n",
    "#frame=pd.DataFrame(texts)"
   ]
  },
  {
   "cell_type": "code",
   "execution_count": 267,
   "id": "1b811254",
   "metadata": {},
   "outputs": [
    {
     "data": {
      "text/plain": [
       "array([0])"
      ]
     },
     "execution_count": 267,
     "metadata": {},
     "output_type": "execute_result"
    }
   ],
   "source": [
    "find_nearest_to = \"\"\"\n",
    "\"Action started, controller: HasimotLeOved, action: MLM.OHO.ServiceLayer.Core.Controllers.HasimotLeOvedController.GetMatsavChasima (MLM.OHO.ServiceLayer.Core)\" \n",
    "SELECT .SIDURI_CHASIMA_SHICHRUR AS MEZAHE_CHASIMA, .MISPAR_OVED AS MisparOved, CODE_SIBA AS CODE_SIBAT_CHASIMA, .TAARICH_ME AS TAARICH_CHASIMA, COALESCE(CODE_MACHOZ, 0) AS MACHOZ_CHOSEM, .CODE_MAKOR_MEIDA AS CODE_MAKOR_MEIDA_CHASIMA, HEARA AS HEARA_CHASIMA, SIDURI_CHASIMA_SHICHRUR AS MEZAHE_SHICHRUR, CODE_SIBA AS CODE_SIBAT_SHICHRUR, TAARICH_ME AS TAARICH_SHICHRUR, COALESCE(CODE_MACHOZ, 0) AS MACHOZ_MESHACHRER, \"sh\".CODE_MAKOR_MEIDA AS CODE_MAKOR_MEIDA_SHICHRUR, COALESCE(\"sh\".HEARA, '') AS HEARA_SHICHRUR, COALESCE(\"e\".CODE_MISHTAMESH_YOTSER, '') AS CODE_MISHTAMESH_YOTSER, \"e\".TAARICH_YETZIRAT_RESHUMA AS TAARICH_YETSIRAT_RESHUMA, COALESCE(\"e\".CODE_MISHTAMESH_MEADKEN, '') AS CODE_MISHT_MEADKEN_CHASIMA, \"e\".TAARICH_IDKUN_RESHUMA AS TAARICH_IDKUN_RESHUMA_CHASIMA, COALESCE(CODE_MISHTAMESH_MEADKEN, '') AS CODE_MISHT_MEADKEN_SHICHRUR, TAARICH_IDKUN_RESHUMA AS TAARICH_IDKUN_RESHUMA_SHICHRUR\n",
    "FROM OHO_OWNER.OHO_CHASIMA_SHICHRUR_LEOVED \n",
    "LEFT JOIN OHO_OWNER.OHO_CHASIMA_SHICHRUR_LEOVED  ON .SIDURI_CHASIMA_SHICHRUR = .HATZBAA_LE_RESHUMA\n",
    "WHERE (.MISPAR_OVED = :p__misparOved_0) AND (.CODE_SUG_PEULA = 1) \n",
    "2021-11-10 12:51:11.9435 Low eventId:  message: SQL: Executed DbCommand (1ms) [Parameters=[p__misparOved_0='282279' (Nullable = true)], CommandType='Text', CommandTimeout='0']\n",
    "\"\"\"\n",
    "new_entry = tfidf.transform([find_nearest_to])\n",
    "pd.DataFrame.sparse.from_spmatrix(new_entry)\n",
    "km.predict(new_entry)"
   ]
  },
  {
   "cell_type": "code",
   "execution_count": 268,
   "id": "2361d081",
   "metadata": {},
   "outputs": [],
   "source": [
    "from sklearn.datasets import load_digits\n",
    "from sklearn.decomposition import PCA\n",
    "from sklearn.cluster import KMeans\n",
    "import numpy as np\n",
    " \n",
    "#Load Data\n",
    "data = load_digits().data\n",
    "pca = PCA(2)\n",
    " \n",
    "#Transform the data\n",
    "df = pca.fit_transform(data)\n",
    " \n",
    "#df.shape"
   ]
  },
  {
   "cell_type": "code",
   "execution_count": 269,
   "id": "f4eaaf49",
   "metadata": {},
   "outputs": [],
   "source": [
    "#Import required module\n",
    "from sklearn.cluster import KMeans\n",
    " \n",
    "#Initialize the class object\n",
    "kmeans = KMeans(n_clusters= 3)\n",
    " \n",
    "#predict the labels of clusters.\n",
    "label = kmeans.fit_predict(df)\n",
    " \n",
    "#print(label)"
   ]
  },
  {
   "cell_type": "code",
   "execution_count": 270,
   "id": "fc38fc56",
   "metadata": {},
   "outputs": [
    {
     "data": {
      "image/png": "[encoded data removed]",
      "text/plain": [
       "<Figure size 432x288 with 1 Axes>"
      ]
     },
     "metadata": {
      "needs_background": "light"
     },
     "output_type": "display_data"
    }
   ],
   "source": [
    "#Getting the Centroids\n",
    "import matplotlib.pyplot as plt\n",
    "centroids = kmeans.cluster_centers_\n",
    "u_labels = np.unique(label)\n",
    " \n",
    "#plotting the results:\n",
    " \n",
    "for i in u_labels:\n",
    "    plt.scatter(df[label == i , 0] , df[label == i , 1] , label = i)\n",
    "plt.scatter(centroids[:,0] , centroids[:,1] , s = 80, color = 'k')\n",
    "plt.legend()\n",
    "plt.show()\n"
   ]
  },
  {
   "cell_type": "code",
   "execution_count": null,
   "id": "ed5b0791",
   "metadata": {},
   "outputs": [],
   "source": []
  }
 ],
 "metadata": {
  "kernelspec": {
   "display_name": "Python 3",
   "language": "python",
   "name": "python3"
  },
  "language_info": {
   "codemirror_mode": {
    "name": "ipython",
    "version": 3
   },
   "file_extension": ".py",
   "mimetype": "text/x-python",
   "name": "python",
   "nbconvert_exporter": "python",
   "pygments_lexer": "ipython3",
   "version": "3.8.8"
  }
 },
 "nbformat": 4,
 "nbformat_minor": 5
}
