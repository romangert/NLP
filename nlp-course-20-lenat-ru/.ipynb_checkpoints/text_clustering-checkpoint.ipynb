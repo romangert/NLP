{
 "cells": [
  {
   "cell_type": "code",
   "execution_count": 2,
   "id": "6afe4df2",
   "metadata": {},
   "outputs": [],
   "source": [
    "#https://youtu.be/TIU2PwSoDS8\n",
    "import pandas as pd\n",
    "import nupy as np\n",
    "from tqdm.auto import tqdm, trange\n",
    "import nltk\n",
    "import re"
   ]
  },
  {
   "cell_type": "code",
   "execution_count": 3,
   "id": "e42b133c",
   "metadata": {},
   "outputs": [],
   "source": [
    "data = pd.read_csv(\"./data/lenta-ru-news.csv\", low_memory=False)"
   ]
  },
  {
   "cell_type": "code",
   "execution_count": 4,
   "id": "0498cb5b",
   "metadata": {},
   "outputs": [],
   "source": [
    "#data.head(5)"
   ]
  },
  {
   "cell_type": "code",
   "execution_count": 5,
   "id": "781226ea",
   "metadata": {},
   "outputs": [],
   "source": [
    "topics = ['Путешествия', 'Ценности', 'Мир', 'Наука и техника', 'Экономика']\n",
    "news_in_cat_count = 400"
   ]
  },
  {
   "cell_type": "code",
   "execution_count": 6,
   "id": "35e98407",
   "metadata": {},
   "outputs": [
    {
     "data": {
      "application/vnd.jupyter.widget-view+json": {
       "model_id": "1bccbf282c5e41be92c5a16532d7ae3b",
       "version_major": 2,
       "version_minor": 0
      },
      "text/plain": [
       "  0%|          | 0/5 [00:00<?, ?it/s]"
      ]
     },
     "metadata": {},
     "output_type": "display_data"
    }
   ],
   "source": [
    "df_res = pd.DataFrame()\n",
    "#print(def_res)\n",
    "for topic in tqdm(topics):\n",
    "    df_topic = data[data[\"topic\"]==topic][:news_in_cat_count]\n",
    "    df_res = df_res.append(df_topic, ignore_index=True)"
   ]
  },
  {
   "cell_type": "code",
   "execution_count": 14,
   "id": "99d27cf2",
   "metadata": {},
   "outputs": [],
   "source": [
    "#print(df_res)\n",
    "#df_res.head(3)"
   ]
  },
  {
   "cell_type": "code",
   "execution_count": 150,
   "id": "0872ff91",
   "metadata": {},
   "outputs": [],
   "source": [
    "texts = df_res['text']\n",
    "#print(texts[0])\n",
    "#type(texts)"
   ]
  },
  {
   "cell_type": "code",
   "execution_count": 9,
   "id": "04ad905f",
   "metadata": {},
   "outputs": [],
   "source": [
    "#print(texts[0])"
   ]
  },
  {
   "cell_type": "code",
   "execution_count": 10,
   "id": "c4f1d179",
   "metadata": {},
   "outputs": [],
   "source": [
    "from nltk.stem.snowball import SnowballStemmer\n",
    "stemer = SnowballStemmer(\"russian\")"
   ]
  },
  {
   "cell_type": "code",
   "execution_count": 131,
   "id": "8eee79a7",
   "metadata": {},
   "outputs": [],
   "source": [
    "def token_and_stem(text):\n",
    "    sent_tokenize=nltk.sent_tokenize(text)\n",
    "   \n",
    "    #tokens = [word for sent in nltk.sent_tokenize(text) for word in nltk.word_tokenize(sent)]\n",
    "    tokens = [word for sent in sent_tokenize for word in nltk.word_tokenize(sent)]\n",
    "    \n",
    "    #print(tokens)\n",
    "    filtered_tokens=[]\n",
    "    for token in tokens:\n",
    "        if re.search('[а-яА-Я]', token):\n",
    "            filtered_tokens.append(token)\n",
    "    stems = [stemer.stem(t) for t in filtered_tokens]\n",
    "    return stems"
   ]
  },
  {
   "cell_type": "code",
   "execution_count": 129,
   "id": "edc6f9a8",
   "metadata": {},
   "outputs": [],
   "source": [
    "stopwords = nltk.corpus.stopwords.words(\"russian\")\n",
    "stopwords.extend(['что', 'это', 'так', 'вот', 'быть', 'как', 'в', 'к', 'на'])\n",
    "\n",
    "\n",
    "#print(stopwords)\n",
    "#print(\"*****************************************************************************************************\")\n",
    "#token_and_stem(texts[5])"
   ]
  },
  {
   "cell_type": "code",
   "execution_count": 217,
   "id": "920a9828",
   "metadata": {},
   "outputs": [],
   "source": [
    "from sklearn.feature_extraction.text import TfidfVectorizer\n",
    "tfidf_vectorizer = TfidfVectorizer(max_df=0.8, \n",
    "                                   min_df=0.01, \n",
    "                                   max_features=100000, \n",
    "                                   stop_words=stopwords,\n",
    "                                   use_idf=True, \n",
    "                                   tokenizer=token_and_stem, \n",
    "                                   ngram_range=(1,3)\n",
    "                                  )"
   ]
  },
  {
   "cell_type": "code",
   "execution_count": 147,
   "id": "b5855e41",
   "metadata": {
    "scrolled": true
   },
   "outputs": [
    {
     "name": "stderr",
     "output_type": "stream",
     "text": [
      "/home/roman/.local/lib/python3.9/site-packages/sklearn/feature_extraction/text.py:396: UserWarning: Your stop_words may be inconsistent with your preprocessing. Tokenizing the stop words generated tokens ['бол', 'больш', 'будт', 'быт', 'вед', 'впроч', 'всег', 'всегд', 'даж', 'друг', 'е', 'ег', 'ем', 'есл', 'ест', 'ещ', 'зач', 'зде', 'ил', 'иногд', 'когд', 'конечн', 'куд', 'лучш', 'межд', 'мен', 'мног', 'мо', 'можн', 'нег', 'нельз', 'нибуд', 'никогд', 'нич', 'опя', 'посл', 'пот', 'почт', 'разв', 'сво', 'себ', 'совс', 'теб', 'тепер', 'тог', 'тогд', 'тож', 'тольк', 'хорош', 'хот', 'чег', 'чут', 'эт'] not in stop_words.\n",
      "  warnings.warn(\n"
     ]
    },
    {
     "name": "stdout",
     "output_type": "stream",
     "text": [
      "CPU times: user 17.7 s, sys: 32 ms, total: 17.8 s\n",
      "Wall time: 17.8 s\n"
     ]
    }
   ],
   "source": [
    "%%time\n",
    "tfidf_matrix = tfidf_vectorizer.fit_transform(texts)"
   ]
  },
  {
   "cell_type": "code",
   "execution_count": 162,
   "id": "d7896bc5",
   "metadata": {},
   "outputs": [
    {
     "data": {
      "text/plain": [
       "(2000,)"
      ]
     },
     "execution_count": 162,
     "metadata": {},
     "output_type": "execute_result"
    }
   ],
   "source": [
    "#print(tfidf_matrix)\n",
    "texts.shape"
   ]
  },
  {
   "cell_type": "code",
   "execution_count": 155,
   "id": "53e1d0ca",
   "metadata": {},
   "outputs": [],
   "source": [
    "num_clusters = 5\n",
    "from sklearn.cluster import KMeans\n",
    "km = KMeans(n_clusters=num_clusters)"
   ]
  },
  {
   "cell_type": "code",
   "execution_count": 228,
   "id": "bef59e89",
   "metadata": {},
   "outputs": [
    {
     "name": "stdout",
     "output_type": "stream",
     "text": [
      "CPU times: user 1.03 s, sys: 10.3 ms, total: 1.04 s\n",
      "Wall time: 340 ms\n"
     ]
    },
    {
     "data": {
      "text/plain": [
       "KMeans(n_clusters=5)"
      ]
     },
     "execution_count": 228,
     "metadata": {},
     "output_type": "execute_result"
    }
   ],
   "source": [
    "%%time\n",
    "km.fit(tfidf_matrix)\n"
   ]
  },
  {
   "cell_type": "code",
   "execution_count": 225,
   "id": "1cfb749a",
   "metadata": {},
   "outputs": [],
   "source": [
    "idx=km.fit(tfidf_matrix)\n",
    "clusterkm=km.labels_.tolist()\n",
    "frame=pd.DataFrame(texts)\n",
    "\n",
    "out = { 'text': texts, 'cluster': clusterkm, 'topic': df_res['topic'] }\n",
    "frame1 = pd.DataFrame(out, columns = ['text', 'cluster', 'topic'])"
   ]
  },
  {
   "cell_type": "code",
   "execution_count": 226,
   "id": "2aaa91c8",
   "metadata": {},
   "outputs": [
    {
     "name": "stdout",
     "output_type": "stream",
     "text": [
      "0\n"
     ]
    }
   ],
   "source": [
    "#frame1[96:99]\n",
    "frame.head(10)\n",
    "fp = frame1[ frame1.topic.eq('Путешествия') & frame1.cluster.eq(1) ]\n",
    "print(len(fp))"
   ]
  },
  {
   "cell_type": "code",
   "execution_count": 194,
   "id": "bed25725",
   "metadata": {},
   "outputs": [],
   "source": [
    "# MiniBatchKMeans\n",
    "\n",
    "#from sklearn.cluster import MiniBatchKMeans\n",
    "\n",
    "#mbk  = MiniBatchKMeans(init='random', n_clusters=num_clusters) #(init='k-means++', ‘random’ or an ndarray)\\n\",\n",
    "#mbk.fit_transform(tfidf_matrix)\n",
    "#%time mbk.fit(tfidf_matrix)\n",
    "#miniclusters = mbk.labels_.tolist()\n",
    "#print (mbk.labels_)"
   ]
  },
  {
   "cell_type": "code",
   "execution_count": 218,
   "id": "beb8619c",
   "metadata": {},
   "outputs": [],
   "source": [
    "ser = data[ data['topic'] == 'Путешествия']['title']\n",
    "#ser"
   ]
  },
  {
   "cell_type": "code",
   "execution_count": 219,
   "id": "446aa2bf",
   "metadata": {},
   "outputs": [],
   "source": [
    "#print(topics)\n",
    "#print(num_clusters)"
   ]
  },
  {
   "cell_type": "code",
   "execution_count": 207,
   "id": "75fe423c",
   "metadata": {},
   "outputs": [
    {
     "name": "stdout",
     "output_type": "stream",
     "text": [
      "Путешествия \t\t 0 : 7   1 : 342   2 : 0   3 : 0   4 : 51   \n",
      "Ценности \t\t 0 : 14   1 : 8   2 : 0   3 : 318   4 : 60   \n",
      "Мир \t\t 0 : 59   1 : 1   2 : 9   3 : 0   4 : 331   \n",
      "Наука и техника \t\t 0 : 11   1 : 1   2 : 150   3 : 1   4 : 237   \n",
      "Экономика \t\t 0 : 369   1 : 5   2 : 0   3 : 0   4 : 26   \n"
     ]
    }
   ],
   "source": [
    "for topic in topics:\n",
    "    print(topic, end = ' \\t\\t ')\n",
    "    for cluster in range(num_clusters):\n",
    "        print(cluster, ':', len(frame1[ frame1.topic.eq(topic) &  frame1.cluster.eq(cluster) ]), end = '   ')\n",
    "    print()"
   ]
  },
  {
   "cell_type": "code",
   "execution_count": 208,
   "id": "80108489",
   "metadata": {},
   "outputs": [
    {
     "data": {
      "text/html": [
       "<div>\n",
       "<style scoped>\n",
       "    .dataframe tbody tr th:only-of-type {\n",
       "        vertical-align: middle;\n",
       "    }\n",
       "\n",
       "    .dataframe tbody tr th {\n",
       "        vertical-align: top;\n",
       "    }\n",
       "\n",
       "    .dataframe thead th {\n",
       "        text-align: right;\n",
       "    }\n",
       "</style>\n",
       "<table border=\"1\" class=\"dataframe\">\n",
       "  <thead>\n",
       "    <tr style=\"text-align: right;\">\n",
       "      <th></th>\n",
       "      <th>topic</th>\n",
       "      <th>cluster_0</th>\n",
       "      <th>cluster_1</th>\n",
       "      <th>cluster_2</th>\n",
       "      <th>cluster_3</th>\n",
       "      <th>cluster_4</th>\n",
       "    </tr>\n",
       "  </thead>\n",
       "  <tbody>\n",
       "    <tr>\n",
       "      <th>0</th>\n",
       "      <td>Путешествия</td>\n",
       "      <td>7</td>\n",
       "      <td>342</td>\n",
       "      <td>0</td>\n",
       "      <td>0</td>\n",
       "      <td>51</td>\n",
       "    </tr>\n",
       "    <tr>\n",
       "      <th>1</th>\n",
       "      <td>Ценности</td>\n",
       "      <td>14</td>\n",
       "      <td>8</td>\n",
       "      <td>0</td>\n",
       "      <td>318</td>\n",
       "      <td>60</td>\n",
       "    </tr>\n",
       "    <tr>\n",
       "      <th>2</th>\n",
       "      <td>Мир</td>\n",
       "      <td>59</td>\n",
       "      <td>1</td>\n",
       "      <td>9</td>\n",
       "      <td>0</td>\n",
       "      <td>331</td>\n",
       "    </tr>\n",
       "    <tr>\n",
       "      <th>3</th>\n",
       "      <td>Наука и техника</td>\n",
       "      <td>11</td>\n",
       "      <td>1</td>\n",
       "      <td>150</td>\n",
       "      <td>1</td>\n",
       "      <td>237</td>\n",
       "    </tr>\n",
       "    <tr>\n",
       "      <th>4</th>\n",
       "      <td>Экономика</td>\n",
       "      <td>369</td>\n",
       "      <td>5</td>\n",
       "      <td>0</td>\n",
       "      <td>0</td>\n",
       "      <td>26</td>\n",
       "    </tr>\n",
       "  </tbody>\n",
       "</table>\n",
       "</div>"
      ],
      "text/plain": [
       "             topic cluster_0 cluster_1 cluster_2 cluster_3 cluster_4\n",
       "0      Путешествия         7       342         0         0        51\n",
       "1         Ценности        14         8         0       318        60\n",
       "2              Мир        59         1         9         0       331\n",
       "3  Наука и техника        11         1       150         1       237\n",
       "4        Экономика       369         5         0         0        26"
      ]
     },
     "execution_count": 208,
     "metadata": {},
     "output_type": "execute_result"
    }
   ],
   "source": [
    "clust_res = pd.DataFrame(columns=['topic', 'cluster_0', 'cluster_1', 'cluster_2', 'cluster_3', 'cluster_4'])\n",
    "i = 0\n",
    "for topic in topics:\n",
    "    cnt = []\n",
    "    for cluster in range(num_clusters):\n",
    "        cnt.append(len(frame1[ frame1.topic.eq(topic) &  frame1.cluster.eq(cluster) ]))\n",
    "    clust_res.loc[i] = [topic] + cnt\n",
    "    i += 1\n",
    "clust_res"
   ]
  },
  {
   "cell_type": "code",
   "execution_count": 210,
   "id": "1222e1d2",
   "metadata": {},
   "outputs": [],
   "source": [
    "tech_text = '''\n",
    "    \"Ученые Университета Аризоны в США открыли неизвестный принцип эволюции, согласно которому естественный отбор не может благоприятствовать сразу нескольким полезным мутациям, повышающим приспособленность организма к окружающей среде. Вместо этого он фокусируется только на том, что достаточно для выживания существа, и игнорирует другие возможности для улучшения. Об этом сообщается в статье в журнале Proceedings of the National Academy of Sciences.\n",
    "    Исследователи спровоцировали несколько мутаций, которые «ломали» механизм трансляции у шести различных штаммов бактерии кишечной палочки Escherichia coli. Трансляция — это процесс, при котором заложенная в генах информация о нуклеотидной последовательности белков переносится к рибосомам и участвует в белковом синтезе. Известно, что более чем за 3,5 миллиарда лет эволюции механизм трансляции не претерпел существенных изменений.\n",
    "    Ряд нефатальных мутаций, затрагивающих функционирование трансляционного процесса, должен с течением времени быть исправлен эволюцией. Для этого ученые заставили штаммы бактерий с различными изменениями конкурировать друг с другом, благодаря чему осуществлялся естественный отбор. Со временем внутри популяции накапливались полезные мутации, которые могли быть сохранены и использованы для улучшения трансляции.'''"
   ]
  },
  {
   "cell_type": "code",
   "execution_count": 215,
   "id": "ce76f077",
   "metadata": {},
   "outputs": [
    {
     "data": {
      "text/html": [
       "<div>\n",
       "<style scoped>\n",
       "    .dataframe tbody tr th:only-of-type {\n",
       "        vertical-align: middle;\n",
       "    }\n",
       "\n",
       "    .dataframe tbody tr th {\n",
       "        vertical-align: top;\n",
       "    }\n",
       "\n",
       "    .dataframe thead th {\n",
       "        text-align: right;\n",
       "    }\n",
       "</style>\n",
       "<table border=\"1\" class=\"dataframe\">\n",
       "  <thead>\n",
       "    <tr style=\"text-align: right;\">\n",
       "      <th></th>\n",
       "      <th>0</th>\n",
       "      <th>1</th>\n",
       "      <th>2</th>\n",
       "      <th>3</th>\n",
       "      <th>4</th>\n",
       "      <th>5</th>\n",
       "      <th>6</th>\n",
       "      <th>7</th>\n",
       "      <th>8</th>\n",
       "      <th>9</th>\n",
       "      <th>...</th>\n",
       "      <th>2177</th>\n",
       "      <th>2178</th>\n",
       "      <th>2179</th>\n",
       "      <th>2180</th>\n",
       "      <th>2181</th>\n",
       "      <th>2182</th>\n",
       "      <th>2183</th>\n",
       "      <th>2184</th>\n",
       "      <th>2185</th>\n",
       "      <th>2186</th>\n",
       "    </tr>\n",
       "  </thead>\n",
       "  <tbody>\n",
       "    <tr>\n",
       "      <th>0</th>\n",
       "      <td>0.0</td>\n",
       "      <td>0.0</td>\n",
       "      <td>0.0</td>\n",
       "      <td>0.0</td>\n",
       "      <td>0.0</td>\n",
       "      <td>0.0</td>\n",
       "      <td>0.0</td>\n",
       "      <td>0.0</td>\n",
       "      <td>0.0</td>\n",
       "      <td>0.0</td>\n",
       "      <td>...</td>\n",
       "      <td>0.0</td>\n",
       "      <td>0.0</td>\n",
       "      <td>0.0</td>\n",
       "      <td>0.0</td>\n",
       "      <td>0.0</td>\n",
       "      <td>0.0</td>\n",
       "      <td>0.0</td>\n",
       "      <td>0.0</td>\n",
       "      <td>0.0</td>\n",
       "      <td>0.0</td>\n",
       "    </tr>\n",
       "  </tbody>\n",
       "</table>\n",
       "<p>1 rows × 2187 columns</p>\n",
       "</div>"
      ],
      "text/plain": [
       "   0     1     2     3     4     5     6     7     8     9     ...  2177  \\\n",
       "0   0.0   0.0   0.0   0.0   0.0   0.0   0.0   0.0   0.0   0.0  ...   0.0   \n",
       "\n",
       "   2178  2179  2180  2181  2182  2183  2184  2185  2186  \n",
       "0   0.0   0.0   0.0   0.0   0.0   0.0   0.0   0.0   0.0  \n",
       "\n",
       "[1 rows x 2187 columns]"
      ]
     },
     "execution_count": 215,
     "metadata": {},
     "output_type": "execute_result"
    }
   ],
   "source": [
    "text_vec = tfidf_vectorizer.transform([tech_text])\n",
    "pd.DataFrame.sparse.from_spmatrix(text_vec)"
   ]
  },
  {
   "cell_type": "code",
   "execution_count": 216,
   "id": "bcd89b53",
   "metadata": {},
   "outputs": [
    {
     "data": {
      "text/plain": [
       "array([4], dtype=int32)"
      ]
     },
     "execution_count": 216,
     "metadata": {},
     "output_type": "execute_result"
    }
   ],
   "source": [
    "km.predict(text_vec)"
   ]
  }
 ],
 "metadata": {
  "kernelspec": {
   "display_name": "Python 3 (ipykernel)",
   "language": "python",
   "name": "python3"
  },
  "language_info": {
   "codemirror_mode": {
    "name": "ipython",
    "version": 3
   },
   "file_extension": ".py",
   "mimetype": "text/x-python",
   "name": "python",
   "nbconvert_exporter": "python",
   "pygments_lexer": "ipython3",
   "version": "3.9.7"
  }
 },
 "nbformat": 4,
 "nbformat_minor": 5
}
