{
 "cells": [
  {
   "cell_type": "code",
   "execution_count": 6,
   "id": "6afe4df2",
   "metadata": {},
   "outputs": [],
   "source": [
    "#https://youtu.be/TIU2PwSoDS8\n",
    "import pandas as pd\n",
    "import numpy as np\n",
    "from tqdm.auto import tqdm, trange\n",
    "import nltk\n",
    "import re"
   ]
  },
  {
   "cell_type": "code",
   "execution_count": 7,
   "id": "e42b133c",
   "metadata": {},
   "outputs": [],
   "source": [
    "data = pd.read_csv(\"./data/lenta-ru-news.csv\", low_memory=False)"
   ]
  },
  {
   "cell_type": "code",
   "execution_count": 8,
   "id": "0498cb5b",
   "metadata": {},
   "outputs": [],
   "source": [
    "#data.head(5)"
   ]
  },
  {
   "cell_type": "code",
   "execution_count": 9,
   "id": "781226ea",
   "metadata": {},
   "outputs": [],
   "source": [
    "topics = ['Путешествия', 'Ценности', 'Мир', 'Наука и техника', 'Экономика']\n",
    "news_in_cat_count = 1000"
   ]
  },
  {
   "cell_type": "code",
   "execution_count": 10,
   "id": "35e98407",
   "metadata": {},
   "outputs": [
    {
     "data": {
      "application/vnd.jupyter.widget-view+json": {
       "model_id": "284d18f8ad5142dfaaae6e2a4124b792",
       "version_major": 2,
       "version_minor": 0
      },
      "text/plain": [
       "  0%|          | 0/5 [00:00<?, ?it/s]"
      ]
     },
     "metadata": {},
     "output_type": "display_data"
    }
   ],
   "source": [
    "df_res = pd.DataFrame()\n",
    "#print(def_res)\n",
    "for topic in tqdm(topics):\n",
    "    df_topic = data[data[\"topic\"]==topic][:news_in_cat_count]\n",
    "    df_res = df_res.append(df_topic, ignore_index=True)"
   ]
  },
  {
   "cell_type": "code",
   "execution_count": 11,
   "id": "99d27cf2",
   "metadata": {},
   "outputs": [
    {
     "data": {
      "text/html": [
       "<div>\n",
       "<style scoped>\n",
       "    .dataframe tbody tr th:only-of-type {\n",
       "        vertical-align: middle;\n",
       "    }\n",
       "\n",
       "    .dataframe tbody tr th {\n",
       "        vertical-align: top;\n",
       "    }\n",
       "\n",
       "    .dataframe thead th {\n",
       "        text-align: right;\n",
       "    }\n",
       "</style>\n",
       "<table border=\"1\" class=\"dataframe\">\n",
       "  <thead>\n",
       "    <tr style=\"text-align: right;\">\n",
       "      <th></th>\n",
       "      <th>url</th>\n",
       "      <th>title</th>\n",
       "      <th>text</th>\n",
       "      <th>topic</th>\n",
       "      <th>tags</th>\n",
       "      <th>date</th>\n",
       "    </tr>\n",
       "  </thead>\n",
       "  <tbody>\n",
       "    <tr>\n",
       "      <th>0</th>\n",
       "      <td>https://lenta.ru/news/2014/06/26/annoyingphotos/</td>\n",
       "      <td>Составлен рейтинг самых раздражающих отпускных...</td>\n",
       "      <td>Названы самые раздражающие фотографии, которые...</td>\n",
       "      <td>Путешествия</td>\n",
       "      <td>Мнения</td>\n",
       "      <td>2014/06/26</td>\n",
       "    </tr>\n",
       "    <tr>\n",
       "      <th>1</th>\n",
       "      <td>https://lenta.ru/news/2015/01/09/flight/</td>\n",
       "      <td>В Европе появится 10-минутный авиарейс</td>\n",
       "      <td>Австрийская авиакомпания FlyNiki открывает 10-...</td>\n",
       "      <td>Путешествия</td>\n",
       "      <td>Мир</td>\n",
       "      <td>2015/01/09</td>\n",
       "    </tr>\n",
       "    <tr>\n",
       "      <th>2</th>\n",
       "      <td>https://lenta.ru/news/2015/01/28/tsipras/</td>\n",
       "      <td>Греческий премьер призвал избавиться от отелей...</td>\n",
       "      <td>Премьер-министр Греции Алексис Ципрас призвал ...</td>\n",
       "      <td>Путешествия</td>\n",
       "      <td>Мир</td>\n",
       "      <td>2015/01/28</td>\n",
       "    </tr>\n",
       "    <tr>\n",
       "      <th>3</th>\n",
       "      <td>https://lenta.ru/news/2015/02/03/standfly/</td>\n",
       "      <td>Китайская авиакомпания собралась ввести в само...</td>\n",
       "      <td>Китайский лоукостер Spring Airlines собрался п...</td>\n",
       "      <td>Путешествия</td>\n",
       "      <td>Мир</td>\n",
       "      <td>2015/02/03</td>\n",
       "    </tr>\n",
       "    <tr>\n",
       "      <th>4</th>\n",
       "      <td>https://lenta.ru/news/2015/02/12/tripforvalent...</td>\n",
       "      <td>Россияне отправятся отмечать День святого Вале...</td>\n",
       "      <td>Большинство российских путешественников отметя...</td>\n",
       "      <td>Путешествия</td>\n",
       "      <td>Россия</td>\n",
       "      <td>2015/02/12</td>\n",
       "    </tr>\n",
       "    <tr>\n",
       "      <th>...</th>\n",
       "      <td>...</td>\n",
       "      <td>...</td>\n",
       "      <td>...</td>\n",
       "      <td>...</td>\n",
       "      <td>...</td>\n",
       "      <td>...</td>\n",
       "    </tr>\n",
       "    <tr>\n",
       "      <th>4995</th>\n",
       "      <td>https://lenta.ru/news/2000/04/07/prices/</td>\n",
       "      <td>В марте цены выросли на 0,6 процента</td>\n",
       "      <td>Потребительские цены на товары и услуги для на...</td>\n",
       "      <td>Экономика</td>\n",
       "      <td>Все</td>\n",
       "      <td>2000/04/07</td>\n",
       "    </tr>\n",
       "    <tr>\n",
       "      <th>4996</th>\n",
       "      <td>https://lenta.ru/news/2000/04/07/mrot/</td>\n",
       "      <td>Госдума увеличила минимальный размер оплаты труда</td>\n",
       "      <td>Госдума в пятницу утвердила закон о повышении ...</td>\n",
       "      <td>Экономика</td>\n",
       "      <td>Все</td>\n",
       "      <td>2000/04/07</td>\n",
       "    </tr>\n",
       "    <tr>\n",
       "      <th>4997</th>\n",
       "      <td>https://lenta.ru/news/2000/04/07/kamaz/</td>\n",
       "      <td>ЕБРР согласен реструктурировать долги КамАЗа</td>\n",
       "      <td>Европейский банк реконструкции и развития (ЕБР...</td>\n",
       "      <td>Экономика</td>\n",
       "      <td>Все</td>\n",
       "      <td>2000/04/07</td>\n",
       "    </tr>\n",
       "    <tr>\n",
       "      <th>4998</th>\n",
       "      <td>https://lenta.ru/news/2000/04/07/market/</td>\n",
       "      <td>Московскими рынками будет заведовать отдельная...</td>\n",
       "      <td>Все дела, связанные с уплатой налогов московск...</td>\n",
       "      <td>Экономика</td>\n",
       "      <td>Все</td>\n",
       "      <td>2000/04/07</td>\n",
       "    </tr>\n",
       "    <tr>\n",
       "      <th>4999</th>\n",
       "      <td>https://lenta.ru/news/2000/04/07/wb/</td>\n",
       "      <td>Россия сократит заимствования у Всемирного банка</td>\n",
       "      <td>Россия намерена сократить объем заимствований ...</td>\n",
       "      <td>Экономика</td>\n",
       "      <td>Все</td>\n",
       "      <td>2000/04/07</td>\n",
       "    </tr>\n",
       "  </tbody>\n",
       "</table>\n",
       "<p>5000 rows × 6 columns</p>\n",
       "</div>"
      ],
      "text/plain": [
       "                                                    url  \\\n",
       "0      https://lenta.ru/news/2014/06/26/annoyingphotos/   \n",
       "1              https://lenta.ru/news/2015/01/09/flight/   \n",
       "2             https://lenta.ru/news/2015/01/28/tsipras/   \n",
       "3            https://lenta.ru/news/2015/02/03/standfly/   \n",
       "4     https://lenta.ru/news/2015/02/12/tripforvalent...   \n",
       "...                                                 ...   \n",
       "4995           https://lenta.ru/news/2000/04/07/prices/   \n",
       "4996             https://lenta.ru/news/2000/04/07/mrot/   \n",
       "4997            https://lenta.ru/news/2000/04/07/kamaz/   \n",
       "4998           https://lenta.ru/news/2000/04/07/market/   \n",
       "4999               https://lenta.ru/news/2000/04/07/wb/   \n",
       "\n",
       "                                                  title  \\\n",
       "0     Составлен рейтинг самых раздражающих отпускных...   \n",
       "1               В Европе появится 10-минутный авиарейс    \n",
       "2     Греческий премьер призвал избавиться от отелей...   \n",
       "3     Китайская авиакомпания собралась ввести в само...   \n",
       "4     Россияне отправятся отмечать День святого Вале...   \n",
       "...                                                 ...   \n",
       "4995               В марте цены выросли на 0,6 процента   \n",
       "4996  Госдума увеличила минимальный размер оплаты труда   \n",
       "4997       ЕБРР согласен реструктурировать долги КамАЗа   \n",
       "4998  Московскими рынками будет заведовать отдельная...   \n",
       "4999   Россия сократит заимствования у Всемирного банка   \n",
       "\n",
       "                                                   text        topic    tags  \\\n",
       "0     Названы самые раздражающие фотографии, которые...  Путешествия  Мнения   \n",
       "1     Австрийская авиакомпания FlyNiki открывает 10-...  Путешествия     Мир   \n",
       "2     Премьер-министр Греции Алексис Ципрас призвал ...  Путешествия     Мир   \n",
       "3     Китайский лоукостер Spring Airlines собрался п...  Путешествия     Мир   \n",
       "4     Большинство российских путешественников отметя...  Путешествия  Россия   \n",
       "...                                                 ...          ...     ...   \n",
       "4995  Потребительские цены на товары и услуги для на...    Экономика     Все   \n",
       "4996  Госдума в пятницу утвердила закон о повышении ...    Экономика     Все   \n",
       "4997  Европейский банк реконструкции и развития (ЕБР...    Экономика     Все   \n",
       "4998  Все дела, связанные с уплатой налогов московск...    Экономика     Все   \n",
       "4999  Россия намерена сократить объем заимствований ...    Экономика     Все   \n",
       "\n",
       "            date  \n",
       "0     2014/06/26  \n",
       "1     2015/01/09  \n",
       "2     2015/01/28  \n",
       "3     2015/02/03  \n",
       "4     2015/02/12  \n",
       "...          ...  \n",
       "4995  2000/04/07  \n",
       "4996  2000/04/07  \n",
       "4997  2000/04/07  \n",
       "4998  2000/04/07  \n",
       "4999  2000/04/07  \n",
       "\n",
       "[5000 rows x 6 columns]"
      ]
     },
     "execution_count": 11,
     "metadata": {},
     "output_type": "execute_result"
    }
   ],
   "source": [
    "df_res\n",
    "#print(df_res)\n",
    "#df_res.head(3)"
   ]
  },
  {
   "cell_type": "code",
   "execution_count": 12,
   "id": "0872ff91",
   "metadata": {},
   "outputs": [],
   "source": [
    "texts = df_res['text']\n",
    "#print(texts[0])\n",
    "#type(texts)"
   ]
  },
  {
   "cell_type": "code",
   "execution_count": 13,
   "id": "04ad905f",
   "metadata": {},
   "outputs": [],
   "source": [
    "#print(texts[0])"
   ]
  },
  {
   "cell_type": "code",
   "execution_count": 14,
   "id": "c4f1d179",
   "metadata": {},
   "outputs": [],
   "source": [
    "from nltk.stem.snowball import SnowballStemmer\n",
    "stemer = SnowballStemmer(\"russian\")"
   ]
  },
  {
   "cell_type": "code",
   "execution_count": 15,
   "id": "8eee79a7",
   "metadata": {},
   "outputs": [],
   "source": [
    "def token_and_stem(text):\n",
    "    sent_tokenize=nltk.sent_tokenize(text)\n",
    "   \n",
    "    #tokens = [word for sent in nltk.sent_tokenize(text) for word in nltk.word_tokenize(sent)]\n",
    "    tokens = [word for sent in sent_tokenize for word in nltk.word_tokenize(sent)]\n",
    "    \n",
    "    #print(tokens)\n",
    "    filtered_tokens=[]\n",
    "    for token in tokens:\n",
    "        if re.search('[а-яА-Я]', token):\n",
    "            filtered_tokens.append(token)\n",
    "    stems = [stemer.stem(t) for t in filtered_tokens]\n",
    "    return stems"
   ]
  },
  {
   "cell_type": "code",
   "execution_count": 25,
   "id": "edc6f9a8",
   "metadata": {},
   "outputs": [
    {
     "name": "stderr",
     "output_type": "stream",
     "text": [
      "[nltk_data] Downloading package stopwords to\n",
      "[nltk_data]     C:\\Users\\kl1356\\AppData\\Roaming\\nltk_data...\n",
      "[nltk_data]   Package stopwords is already up-to-date!\n",
      "[nltk_data] Downloading package punkt to\n",
      "[nltk_data]     C:\\Users\\kl1356\\AppData\\Roaming\\nltk_data...\n",
      "[nltk_data]   Unzipping tokenizers\\punkt.zip.\n"
     ]
    }
   ],
   "source": [
    "nltk.download('stopwords')\n",
    "nltk.download('punkt')\n",
    "stopwords = nltk.corpus.stopwords.words(\"russian\")\n",
    "stopwords.extend(['что', 'это', 'так', 'вот', 'быть', 'как', 'в', 'к', 'на'])\n",
    "\n",
    "\n",
    "#print(stopwords)\n",
    "#print(\"*****************************************************************************************************\")\n",
    "#token_and_stem(texts[5])"
   ]
  },
  {
   "cell_type": "code",
   "execution_count": 29,
   "id": "03d23950",
   "metadata": {},
   "outputs": [],
   "source": [
    "from sklearn.feature_extraction.text import TfidfVectorizer\n",
    "tfidf_vectorizer = TfidfVectorizer(max_df=0.8, \n",
    "                                   min_df=0.01, \n",
    "                                   max_features=100000, \n",
    "                                   stop_words=stopwords,\n",
    "                                   use_idf=True, \n",
    "                                   tokenizer=token_and_stem, \n",
    "                                   ngram_range=(1,3)\n",
    "                                  )"
   ]
  },
  {
   "cell_type": "code",
   "execution_count": 30,
   "id": "7576f720",
   "metadata": {
    "scrolled": true
   },
   "outputs": [
    {
     "name": "stdout",
     "output_type": "stream",
     "text": [
      "Wall time: 48 s\n"
     ]
    }
   ],
   "source": [
    "%%time\n",
    "tfidf_matrix = tfidf_vectorizer.fit_transform(texts)"
   ]
  },
  {
   "cell_type": "code",
   "execution_count": 31,
   "id": "6f9f1acd",
   "metadata": {},
   "outputs": [
    {
     "data": {
      "text/plain": [
       "(5000,)"
      ]
     },
     "execution_count": 31,
     "metadata": {},
     "output_type": "execute_result"
    }
   ],
   "source": [
    "#print(tfidf_matrix)\n",
    "texts.shape"
   ]
  },
  {
   "cell_type": "code",
   "execution_count": 32,
   "id": "51f674c4",
   "metadata": {},
   "outputs": [],
   "source": [
    "num_clusters = 5\n",
    "from sklearn.cluster import KMeans\n",
    "km = KMeans(n_clusters=num_clusters)"
   ]
  },
  {
   "cell_type": "code",
   "execution_count": 33,
   "id": "dde2b1a2",
   "metadata": {},
   "outputs": [
    {
     "name": "stdout",
     "output_type": "stream",
     "text": [
      "Wall time: 5.3 s\n"
     ]
    },
    {
     "data": {
      "text/plain": [
       "KMeans(n_clusters=5)"
      ]
     },
     "execution_count": 33,
     "metadata": {},
     "output_type": "execute_result"
    }
   ],
   "source": [
    "%%time\n",
    "km.fit(tfidf_matrix)\n"
   ]
  },
  {
   "cell_type": "code",
   "execution_count": 34,
   "id": "f5b4dd92",
   "metadata": {},
   "outputs": [],
   "source": [
    "idx=km.fit(tfidf_matrix)\n",
    "clusterkm=km.labels_.tolist()\n",
    "frame=pd.DataFrame(texts)\n",
    "\n",
    "out = { 'text': texts, 'cluster': clusterkm, 'topic': df_res['topic'] }\n",
    "frame1 = pd.DataFrame(out, columns = ['text', 'cluster', 'topic'])"
   ]
  },
  {
   "cell_type": "code",
   "execution_count": 35,
   "id": "569afd4b",
   "metadata": {},
   "outputs": [
    {
     "name": "stdout",
     "output_type": "stream",
     "text": [
      "0\n"
     ]
    }
   ],
   "source": [
    "#frame1[96:99]\n",
    "#print(frame1.head(10))\n",
    "fp = frame1[ frame1.topic.eq('Путешествия') & frame1.cluster.eq(1) ]\n",
    "print(len(fp))"
   ]
  },
  {
   "cell_type": "code",
   "execution_count": 36,
   "id": "fbc798e3",
   "metadata": {},
   "outputs": [],
   "source": [
    "# MiniBatchKMeans\n",
    "\n",
    "#from sklearn.cluster import MiniBatchKMeans\n",
    "\n",
    "#mbk  = MiniBatchKMeans(init='random', n_clusters=num_clusters) #(init='k-means++', ‘random’ or an ndarray)\\n\",\n",
    "#mbk.fit_transform(tfidf_matrix)\n",
    "#%time mbk.fit(tfidf_matrix)\n",
    "#miniclusters = mbk.labels_.tolist()\n",
    "#print (mbk.labels_)"
   ]
  },
  {
   "cell_type": "code",
   "execution_count": 37,
   "id": "1d87562b",
   "metadata": {},
   "outputs": [],
   "source": [
    "#ser = data[ data['topic'] == 'Путешествия']['title']\n",
    "#ser"
   ]
  },
  {
   "cell_type": "code",
   "execution_count": 38,
   "id": "789f135a",
   "metadata": {},
   "outputs": [],
   "source": [
    "#print(topics)\n",
    "#print(num_clusters)"
   ]
  },
  {
   "cell_type": "code",
   "execution_count": 39,
   "id": "7f927d07",
   "metadata": {},
   "outputs": [
    {
     "name": "stdout",
     "output_type": "stream",
     "text": [
      "Путешествия \t\t 0 : 237   1 : 0   2 : 12   3 : 750   4 : 1   \n",
      "Ценности \t\t 0 : 163   1 : 803   2 : 21   3 : 12   4 : 1   \n",
      "Мир \t\t 0 : 905   1 : 0   2 : 64   3 : 0   4 : 31   \n",
      "Наука и техника \t\t 0 : 593   1 : 1   2 : 16   3 : 0   4 : 390   \n",
      "Экономика \t\t 0 : 137   1 : 0   2 : 856   3 : 4   4 : 3   \n"
     ]
    }
   ],
   "source": [
    "for topic in topics:\n",
    "    print(topic, end = ' \\t\\t ')\n",
    "    for cluster in range(num_clusters):\n",
    "        print(cluster, ':', len(frame1[ frame1.topic.eq(topic) &  frame1.cluster.eq(cluster) ]), end = '   ')\n",
    "    print()"
   ]
  },
  {
   "cell_type": "code",
   "execution_count": 40,
   "id": "4e16414b",
   "metadata": {},
   "outputs": [
    {
     "data": {
      "text/html": [
       "<div>\n",
       "<style scoped>\n",
       "    .dataframe tbody tr th:only-of-type {\n",
       "        vertical-align: middle;\n",
       "    }\n",
       "\n",
       "    .dataframe tbody tr th {\n",
       "        vertical-align: top;\n",
       "    }\n",
       "\n",
       "    .dataframe thead th {\n",
       "        text-align: right;\n",
       "    }\n",
       "</style>\n",
       "<table border=\"1\" class=\"dataframe\">\n",
       "  <thead>\n",
       "    <tr style=\"text-align: right;\">\n",
       "      <th></th>\n",
       "      <th>topic</th>\n",
       "      <th>cluster_0</th>\n",
       "      <th>cluster_1</th>\n",
       "      <th>cluster_2</th>\n",
       "      <th>cluster_3</th>\n",
       "      <th>cluster_4</th>\n",
       "    </tr>\n",
       "  </thead>\n",
       "  <tbody>\n",
       "    <tr>\n",
       "      <th>0</th>\n",
       "      <td>Путешествия</td>\n",
       "      <td>237</td>\n",
       "      <td>0</td>\n",
       "      <td>12</td>\n",
       "      <td>750</td>\n",
       "      <td>1</td>\n",
       "    </tr>\n",
       "    <tr>\n",
       "      <th>1</th>\n",
       "      <td>Ценности</td>\n",
       "      <td>163</td>\n",
       "      <td>803</td>\n",
       "      <td>21</td>\n",
       "      <td>12</td>\n",
       "      <td>1</td>\n",
       "    </tr>\n",
       "    <tr>\n",
       "      <th>2</th>\n",
       "      <td>Мир</td>\n",
       "      <td>905</td>\n",
       "      <td>0</td>\n",
       "      <td>64</td>\n",
       "      <td>0</td>\n",
       "      <td>31</td>\n",
       "    </tr>\n",
       "    <tr>\n",
       "      <th>3</th>\n",
       "      <td>Наука и техника</td>\n",
       "      <td>593</td>\n",
       "      <td>1</td>\n",
       "      <td>16</td>\n",
       "      <td>0</td>\n",
       "      <td>390</td>\n",
       "    </tr>\n",
       "    <tr>\n",
       "      <th>4</th>\n",
       "      <td>Экономика</td>\n",
       "      <td>137</td>\n",
       "      <td>0</td>\n",
       "      <td>856</td>\n",
       "      <td>4</td>\n",
       "      <td>3</td>\n",
       "    </tr>\n",
       "  </tbody>\n",
       "</table>\n",
       "</div>"
      ],
      "text/plain": [
       "             topic cluster_0 cluster_1 cluster_2 cluster_3 cluster_4\n",
       "0      Путешествия       237         0        12       750         1\n",
       "1         Ценности       163       803        21        12         1\n",
       "2              Мир       905         0        64         0        31\n",
       "3  Наука и техника       593         1        16         0       390\n",
       "4        Экономика       137         0       856         4         3"
      ]
     },
     "execution_count": 40,
     "metadata": {},
     "output_type": "execute_result"
    }
   ],
   "source": [
    "clust_res = pd.DataFrame(columns=['topic', 'cluster_0', 'cluster_1', 'cluster_2', 'cluster_3', 'cluster_4'])\n",
    "i = 0\n",
    "for topic in topics:\n",
    "    cnt = []\n",
    "    for cluster in range(num_clusters):\n",
    "        cnt.append(len(frame1[ frame1.topic.eq(topic) &  frame1.cluster.eq(cluster) ]))\n",
    "    clust_res.loc[i] = [topic] + cnt\n",
    "    i += 1\n",
    "clust_res"
   ]
  },
  {
   "cell_type": "code",
   "execution_count": 41,
   "id": "95c1ad3b",
   "metadata": {},
   "outputs": [],
   "source": [
    "tech_text = '''\n",
    "    \"Ученые Университета Аризоны в США открыли неизвестный принцип эволюции, согласно которому естественный отбор не может благоприятствовать сразу нескольким полезным мутациям, повышающим приспособленность организма к окружающей среде. Вместо этого он фокусируется только на том, что достаточно для выживания существа, и игнорирует другие возможности для улучшения. Об этом сообщается в статье в журнале Proceedings of the National Academy of Sciences.\n",
    "    Исследователи спровоцировали несколько мутаций, которые «ломали» механизм трансляции у шести различных штаммов бактерии кишечной палочки Escherichia coli. Трансляция — это процесс, при котором заложенная в генах информация о нуклеотидной последовательности белков переносится к рибосомам и участвует в белковом синтезе. Известно, что более чем за 3,5 миллиарда лет эволюции механизм трансляции не претерпел существенных изменений.\n",
    "    Ряд нефатальных мутаций, затрагивающих функционирование трансляционного процесса, должен с течением времени быть исправлен эволюцией. Для этого ученые заставили штаммы бактерий с различными изменениями конкурировать друг с другом, благодаря чему осуществлялся естественный отбор. Со временем внутри популяции накапливались полезные мутации, которые могли быть сохранены и использованы для улучшения трансляции.'''"
   ]
  },
  {
   "cell_type": "code",
   "execution_count": 42,
   "id": "e095ad76",
   "metadata": {},
   "outputs": [
    {
     "data": {
      "text/html": [
       "<div>\n",
       "<style scoped>\n",
       "    .dataframe tbody tr th:only-of-type {\n",
       "        vertical-align: middle;\n",
       "    }\n",
       "\n",
       "    .dataframe tbody tr th {\n",
       "        vertical-align: top;\n",
       "    }\n",
       "\n",
       "    .dataframe thead th {\n",
       "        text-align: right;\n",
       "    }\n",
       "</style>\n",
       "<table border=\"1\" class=\"dataframe\">\n",
       "  <thead>\n",
       "    <tr style=\"text-align: right;\">\n",
       "      <th></th>\n",
       "      <th>0</th>\n",
       "      <th>1</th>\n",
       "      <th>2</th>\n",
       "      <th>3</th>\n",
       "      <th>4</th>\n",
       "      <th>5</th>\n",
       "      <th>6</th>\n",
       "      <th>7</th>\n",
       "      <th>8</th>\n",
       "      <th>9</th>\n",
       "      <th>...</th>\n",
       "      <th>2100</th>\n",
       "      <th>2101</th>\n",
       "      <th>2102</th>\n",
       "      <th>2103</th>\n",
       "      <th>2104</th>\n",
       "      <th>2105</th>\n",
       "      <th>2106</th>\n",
       "      <th>2107</th>\n",
       "      <th>2108</th>\n",
       "      <th>2109</th>\n",
       "    </tr>\n",
       "  </thead>\n",
       "  <tbody>\n",
       "    <tr>\n",
       "      <th>0</th>\n",
       "      <td>0.0</td>\n",
       "      <td>0.0</td>\n",
       "      <td>0.0</td>\n",
       "      <td>0.0</td>\n",
       "      <td>0.0</td>\n",
       "      <td>0.0</td>\n",
       "      <td>0.0</td>\n",
       "      <td>0.0</td>\n",
       "      <td>0.0</td>\n",
       "      <td>0.0</td>\n",
       "      <td>...</td>\n",
       "      <td>0.0</td>\n",
       "      <td>0.0</td>\n",
       "      <td>0.0</td>\n",
       "      <td>0.0</td>\n",
       "      <td>0.0</td>\n",
       "      <td>0.0</td>\n",
       "      <td>0.0</td>\n",
       "      <td>0.0</td>\n",
       "      <td>0.0</td>\n",
       "      <td>0.0</td>\n",
       "    </tr>\n",
       "  </tbody>\n",
       "</table>\n",
       "<p>1 rows × 2110 columns</p>\n",
       "</div>"
      ],
      "text/plain": [
       "   0     1     2     3     4     5     6     7     8     9     ...  2100  \\\n",
       "0   0.0   0.0   0.0   0.0   0.0   0.0   0.0   0.0   0.0   0.0  ...   0.0   \n",
       "\n",
       "   2101  2102  2103  2104  2105  2106  2107  2108  2109  \n",
       "0   0.0   0.0   0.0   0.0   0.0   0.0   0.0   0.0   0.0  \n",
       "\n",
       "[1 rows x 2110 columns]"
      ]
     },
     "execution_count": 42,
     "metadata": {},
     "output_type": "execute_result"
    }
   ],
   "source": [
    "text_vec = tfidf_vectorizer.transform([tech_text])\n",
    "pd.DataFrame.sparse.from_spmatrix(text_vec)"
   ]
  },
  {
   "cell_type": "code",
   "execution_count": 43,
   "id": "fa2c4a3e",
   "metadata": {},
   "outputs": [
    {
     "data": {
      "text/plain": [
       "array([0])"
      ]
     },
     "execution_count": 43,
     "metadata": {},
     "output_type": "execute_result"
    }
   ],
   "source": [
    "km.predict(text_vec)"
   ]
  },
  {
   "cell_type": "code",
   "execution_count": 44,
   "id": "6694925c",
   "metadata": {},
   "outputs": [],
   "source": [
    "econ_text = '''\n",
    "    Доллар США считается символом надежности, безопасности и экономического процветания.\n",
    "    Он занимает неоспоримое доминирующее положение в международной финансовой системе с середины XX века и производит\n",
    "    впечатление непобедимого титана. Однако эра господства доллара как основной мировой резервной валюты медленно\n",
    "    подходит к концу. Крупнейшие банки предрекают ему резкий спад уже в следующем году, а известный экономист\n",
    "    Стивен Роуч уверен, что американская валюта может обесцениться на треть.\n",
    "    Причинами обвала станут сокращение сбережений населения, рост государственного долга США и усиление Китая.\n",
    "    '''"
   ]
  },
  {
   "cell_type": "code",
   "execution_count": 45,
   "id": "c5f12bde",
   "metadata": {},
   "outputs": [
    {
     "data": {
      "text/plain": [
       "array([2])"
      ]
     },
     "execution_count": 45,
     "metadata": {},
     "output_type": "execute_result"
    }
   ],
   "source": [
    "text_vec = tfidf_vectorizer.transform([econ_text])\n",
    "km.predict(text_vec)"
   ]
  },
  {
   "cell_type": "code",
   "execution_count": null,
   "id": "f2b3ca11",
   "metadata": {},
   "outputs": [],
   "source": []
  }
 ],
 "metadata": {
  "kernelspec": {
   "display_name": "Python 3",
   "language": "python",
   "name": "python3"
  },
  "language_info": {
   "codemirror_mode": {
    "name": "ipython",
    "version": 3
   },
   "file_extension": ".py",
   "mimetype": "text/x-python",
   "name": "python",
   "nbconvert_exporter": "python",
   "pygments_lexer": "ipython3",
   "version": "3.8.8"
  }
 },
 "nbformat": 4,
 "nbformat_minor": 5
}
