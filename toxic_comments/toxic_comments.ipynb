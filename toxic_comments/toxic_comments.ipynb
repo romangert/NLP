{
 "cells": [
  {
   "cell_type": "code",
   "execution_count": 3,
   "id": "60f2f56f",
   "metadata": {
    "scrolled": true
   },
   "outputs": [
    {
     "name": "stderr",
     "output_type": "stream",
     "text": [
      "[nltk_data] Downloading package punkt to /home/roman/nltk_data...\n",
      "[nltk_data]   Package punkt is already up-to-date!\n",
      "[nltk_data] Downloading package stopwords to /home/roman/nltk_data...\n",
      "[nltk_data]   Package stopwords is already up-to-date!\n"
     ]
    }
   ],
   "source": [
    "#https://www.youtube.com/watch?v=RVUpCdVhF60&list=PLmgnXCWXejMRnWnZbEpqW_cg2KJaV7va0&index=19\n",
    "import pandas as pd\n",
    "from sklearn.model_selection import train_test_split\n",
    "import nltk\n",
    "import string\n",
    "from nltk.corpus import stopwords\n",
    "from nltk.tokenize import word_tokenize\n",
    "from nltk.stem import SnowballStemmer\n",
    "nltk.download('punkt')\n",
    "nltk.download('stopwords')\n",
    "from sklearn.pipeline import Pipeline\n",
    "from sklearn.linear_model import LogisticRegression\n",
    "from sklearn.feature_extraction.text import TfidfVectorizer\n",
    "from sklearn.metrics import plot_precision_recall_curve\n",
    "import numpy as np\n",
    "from sklearn.model_selection import GridSearchCV\n",
    "\n",
    "\n"
   ]
  },
  {
   "cell_type": "code",
   "execution_count": 4,
   "id": "0b6a03f7",
   "metadata": {},
   "outputs": [],
   "source": [
    "df=pd.read_csv(\"./data/labeled.csv\", sep=\",\")"
   ]
  },
  {
   "cell_type": "code",
   "execution_count": 5,
   "id": "3d66397d",
   "metadata": {
    "scrolled": true
   },
   "outputs": [],
   "source": [
    "#df.shape"
   ]
  },
  {
   "cell_type": "code",
   "execution_count": 6,
   "id": "c19b0730",
   "metadata": {},
   "outputs": [],
   "source": [
    "#df.head(5)"
   ]
  },
  {
   "cell_type": "code",
   "execution_count": 7,
   "id": "c0420d7b",
   "metadata": {},
   "outputs": [],
   "source": [
    "df[\"toxic\"] = df[\"toxic\"].apply(int)"
   ]
  },
  {
   "cell_type": "code",
   "execution_count": 8,
   "id": "723a47e9",
   "metadata": {},
   "outputs": [],
   "source": [
    "#df.head(5)"
   ]
  },
  {
   "cell_type": "code",
   "execution_count": 9,
   "id": "f50d3379",
   "metadata": {},
   "outputs": [],
   "source": [
    "#df[\"toxic\"].value_counts()"
   ]
  },
  {
   "cell_type": "code",
   "execution_count": 10,
   "id": "61a1e794",
   "metadata": {},
   "outputs": [],
   "source": [
    "#for c in df[df[\"toxic\"]==1][\"comment\"].head(5):\n",
    "#    print(c)\n"
   ]
  },
  {
   "cell_type": "code",
   "execution_count": 11,
   "id": "9eb2d338",
   "metadata": {},
   "outputs": [],
   "source": [
    "#for c in df[df[\"toxic\"]==0][\"comment\"].head(5):\n",
    "#    print(c)\n"
   ]
  },
  {
   "cell_type": "code",
   "execution_count": 12,
   "id": "c06f1744",
   "metadata": {},
   "outputs": [],
   "source": [
    "train_def, test_df = train_test_split(df, test_size=500)"
   ]
  },
  {
   "cell_type": "code",
   "execution_count": 13,
   "id": "d6695c56",
   "metadata": {},
   "outputs": [],
   "source": [
    "#test_df.shape"
   ]
  },
  {
   "cell_type": "code",
   "execution_count": 14,
   "id": "dd804a82",
   "metadata": {},
   "outputs": [],
   "source": [
    "#test_df[\"toxic\"].value_counts()"
   ]
  },
  {
   "cell_type": "code",
   "execution_count": 15,
   "id": "2229d215",
   "metadata": {},
   "outputs": [],
   "source": [
    "#train_def[\"toxic\"].value_counts()"
   ]
  },
  {
   "cell_type": "code",
   "execution_count": 16,
   "id": "6bf3dbfb",
   "metadata": {},
   "outputs": [],
   "source": [
    "sentence_exeple = df.iloc[2][\"comment\"]\n",
    "#print(sentence_exeple)"
   ]
  },
  {
   "cell_type": "code",
   "execution_count": 17,
   "id": "7a2da3e4",
   "metadata": {},
   "outputs": [],
   "source": [
    "#tokens = word_tokenize(sentence_exeple, language=\"russian\")\n",
    "# tokens_hebrew = word_tokenize(sentence_exeple, language=\"hebrew\")\n",
    "#print(tokens)"
   ]
  },
  {
   "cell_type": "code",
   "execution_count": 18,
   "id": "1e0f299b",
   "metadata": {},
   "outputs": [],
   "source": [
    "#print(string.punctuation)"
   ]
  },
  {
   "cell_type": "code",
   "execution_count": 19,
   "id": "cfaa2020",
   "metadata": {},
   "outputs": [],
   "source": [
    "#tokens_without_punctuation=[i for i in tokens if i not in string.punctuation]\n",
    "#print(tokens_without_punctuation)"
   ]
  },
  {
   "cell_type": "code",
   "execution_count": 20,
   "id": "a0758aff",
   "metadata": {},
   "outputs": [],
   "source": [
    "#russian_stop_words = stopwords.words(\"russian\")\n",
    "#print(russian_stop_words)"
   ]
  },
  {
   "cell_type": "code",
   "execution_count": 21,
   "id": "9a666216",
   "metadata": {
    "scrolled": false
   },
   "outputs": [],
   "source": [
    "#tokens_without_stop_words_and_punctuation = [i for i in tokens_without_punctuation if i not in russian_stop_words]\n",
    "#print(tokens_without_stop_words_and_punctuation)"
   ]
  },
  {
   "cell_type": "code",
   "execution_count": 22,
   "id": "070f3334",
   "metadata": {
    "scrolled": true
   },
   "outputs": [],
   "source": [
    "#snowball = SnowballStemmer(language=\"russian\")\n",
    "#stemmed_tokens = [snowball.stem(i) for i in tokens_without_stop_words_and_punctuation ]\n",
    "#print(stemmed_tokens)"
   ]
  },
  {
   "cell_type": "code",
   "execution_count": 23,
   "id": "86eb27be",
   "metadata": {},
   "outputs": [],
   "source": [
    "def tokenize_sentence(sentense: str, remove_stop_words: bool = True):\n",
    "    tokens = word_tokenize(sentense, language=\"russian\")\n",
    "    tokens = [i for i in tokens if i not in string.punctuation] # remove punctuation\n",
    "    if remove_stop_words: # remove stop words\n",
    "        russian_stop_words = stopwords.words(\"russian\")\n",
    "        tokens = [i for i in tokens if i not in russian_stop_words]\n",
    "    snowball = SnowballStemmer(language=\"russian\")\n",
    "    tokens = [snowball.stem(i) for i in tokens ] # stemmed\n",
    "    return tokens"
   ]
  },
  {
   "cell_type": "code",
   "execution_count": 24,
   "id": "c1349451",
   "metadata": {},
   "outputs": [
    {
     "data": {
      "text/plain": [
       "['собак', 'собач', 'смерт']"
      ]
     },
     "execution_count": 24,
     "metadata": {},
     "output_type": "execute_result"
    }
   ],
   "source": [
    "tokenize_sentence(sentence_exeple)"
   ]
  },
  {
   "cell_type": "code",
   "execution_count": 25,
   "id": "e9829e5e",
   "metadata": {},
   "outputs": [],
   "source": [
    "vectorizer = TfidfVectorizer( tokenizer=lambda x: tokenize_sentence(x, remove_stop_words = True) )\n",
    "features = vectorizer.fit_transform(train_def[\"comment\"])\n",
    "#print(features)"
   ]
  },
  {
   "cell_type": "code",
   "execution_count": 26,
   "id": "bce22f87",
   "metadata": {},
   "outputs": [
    {
     "data": {
      "text/plain": [
       "LogisticRegression(random_state=0)"
      ]
     },
     "execution_count": 26,
     "metadata": {},
     "output_type": "execute_result"
    }
   ],
   "source": [
    "model = LogisticRegression(random_state=0)\n",
    "model.fit(features, train_def[\"toxic\"])\n",
    "#LogisticRegression(random_state=0)"
   ]
  },
  {
   "cell_type": "code",
   "execution_count": 27,
   "id": "3fdf81af",
   "metadata": {},
   "outputs": [
    {
     "data": {
      "text/plain": [
       "array([1])"
      ]
     },
     "execution_count": 27,
     "metadata": {},
     "output_type": "execute_result"
    }
   ],
   "source": [
    "model.predict(features[0])"
   ]
  },
  {
   "cell_type": "code",
   "execution_count": 28,
   "id": "85156c5d",
   "metadata": {},
   "outputs": [
    {
     "name": "stdout",
     "output_type": "stream",
     "text": [
      "Не не, с вокзала только вызывать местную службу такси. Номер пробивается в интернете заранее. А автобус ещё дешевле. Надеюсь, с развитием интернета эта мошенническая профессия - вокзальный бомбила - доживает последние дни. Нахуй этих ушпырков, никто по ним скучать не будет.\n"
     ]
    }
   ],
   "source": [
    "print(train_def[\"comment\"].iloc[2])"
   ]
  },
  {
   "cell_type": "code",
   "execution_count": 29,
   "id": "eb80af6c",
   "metadata": {},
   "outputs": [],
   "source": [
    "#print(train_def)"
   ]
  },
  {
   "cell_type": "code",
   "execution_count": 30,
   "id": "1c953fb2",
   "metadata": {},
   "outputs": [],
   "source": [
    "model_pipline = Pipeline(\n",
    "[\n",
    "    (\"vectorizer\", TfidfVectorizer( tokenizer=lambda x: tokenize_sentence(x, remove_stop_words = True) )),\n",
    "    (\"model\", LogisticRegression(random_state=0))\n",
    "])"
   ]
  },
  {
   "cell_type": "code",
   "execution_count": 31,
   "id": "fd33dac3",
   "metadata": {},
   "outputs": [
    {
     "data": {
      "text/plain": [
       "Pipeline(steps=[('vectorizer',\n",
       "                 TfidfVectorizer(tokenizer=<function <lambda> at 0x7fca1849f940>)),\n",
       "                ('model', LogisticRegression(random_state=0))])"
      ]
     },
     "execution_count": 31,
     "metadata": {},
     "output_type": "execute_result"
    }
   ],
   "source": [
    "model_pipline.fit(train_def[\"comment\"], train_def[\"toxic\"])"
   ]
  },
  {
   "cell_type": "code",
   "execution_count": 32,
   "id": "8509ae82",
   "metadata": {},
   "outputs": [
    {
     "data": {
      "text/plain": [
       "array([0])"
      ]
     },
     "execution_count": 32,
     "metadata": {},
     "output_type": "execute_result"
    }
   ],
   "source": [
    "model_pipline.predict([\"сильнейших когда-то, господствующих народов, занимают\"])"
   ]
  },
  {
   "cell_type": "code",
   "execution_count": 33,
   "id": "908bc166",
   "metadata": {},
   "outputs": [
    {
     "data": {
      "text/plain": [
       "array([1])"
      ]
     },
     "execution_count": 33,
     "metadata": {},
     "output_type": "execute_result"
    }
   ],
   "source": [
    "model_pipline.predict([\"Собаке - собачья смерть\"])"
   ]
  }
 ],
 "metadata": {
  "kernelspec": {
   "display_name": "Python 3 (ipykernel)",
   "language": "python",
   "name": "python3"
  },
  "language_info": {
   "codemirror_mode": {
    "name": "ipython",
    "version": 3
   },
   "file_extension": ".py",
   "mimetype": "text/x-python",
   "name": "python",
   "nbconvert_exporter": "python",
   "pygments_lexer": "ipython3",
   "version": "3.9.7"
  }
 },
 "nbformat": 4,
 "nbformat_minor": 5
}
